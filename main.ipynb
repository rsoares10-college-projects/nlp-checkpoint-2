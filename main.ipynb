{
 "cells": [
  {
   "cell_type": "code",
   "execution_count": 75,
   "metadata": {},
   "outputs": [],
   "source": [
    "import pandas as pd\n",
    "import matplotlib.pyplot as plt\n",
    "from sklearn.feature_extraction.text import CountVectorizer\n",
    "from sklearn.feature_extraction.text import TfidfTransformer\n",
    "from nltk.tokenize import word_tokenize\n",
    "import nltk\n",
    "from nltk import SnowballStemmer\n",
    "from imblearn.pipeline import Pipeline\n",
    "from sklearn.model_selection import cross_validate\n",
    "from sklearn import metrics\n",
    "from nltk.tokenize import word_tokenize\n",
    "from sklearn.metrics import f1_score\n",
    "\n",
    "from sklearn.naive_bayes import MultinomialNB\n",
    "from sklearn.linear_model import LogisticRegression\n",
    "from sklearn.ensemble import RandomForestClassifier\n",
    "\n",
    "from unidecode import unidecode\n",
    "import json\n",
    "import string\n",
    "from sklearn.metrics import classification_report\n",
    "from sklearn.model_selection import train_test_split\n",
    "\n",
    "%matplotlib inline"
   ]
  },
  {
   "cell_type": "markdown",
   "metadata": {},
   "source": [
    "##### Obtenção dos dados"
   ]
  },
  {
   "cell_type": "code",
   "execution_count": 2,
   "metadata": {},
   "outputs": [],
   "source": [
    "df = pd.read_csv('https://raw.githubusercontent.com/prof-renato/data/main/humor_detection.csv')\n",
    "df.dropna(inplace=True)"
   ]
  },
  {
   "cell_type": "markdown",
   "metadata": {},
   "source": [
    "### Tratando textos"
   ]
  },
  {
   "cell_type": "markdown",
   "metadata": {},
   "source": [
    "##### Importando um JSON com uma lista de palavras a serem substituidas"
   ]
  },
  {
   "cell_type": "code",
   "execution_count": 3,
   "metadata": {},
   "outputs": [],
   "source": [
    "with open('contraction_map.json') as file:\n",
    "    contration_map = json.load(file)"
   ]
  },
  {
   "cell_type": "code",
   "execution_count": 4,
   "metadata": {},
   "outputs": [],
   "source": [
    "def apply_stemming(list_tokens, stemmer):\n",
    "    return [stemmer.stem(token) for token in list_tokens]"
   ]
  },
  {
   "cell_type": "code",
   "execution_count": 5,
   "metadata": {},
   "outputs": [],
   "source": [
    "def removeWords(listTokens, listWords):\n",
    "    return [token for token in listTokens if token not in listWords]"
   ]
  },
  {
   "cell_type": "code",
   "execution_count": 6,
   "metadata": {},
   "outputs": [],
   "source": [
    "def contration_words(text):\n",
    "    for k, v in contration_map.items():\n",
    "        text = text.replace(k, v)\n",
    "    return text\n",
    "    "
   ]
  },
  {
   "cell_type": "code",
   "execution_count": 7,
   "metadata": {},
   "outputs": [],
   "source": [
    "def textProcess(text):\n",
    "    stopWords = nltk.corpus.stopwords.words('english')\n",
    "\n",
    "    text = text.replace(u'\\ufffd', '8')\n",
    "    text = text.translate(str.maketrans('', '', string.punctuation))\n",
    "    text = text.rstrip('\\n')\n",
    "    text = contration_words(text)\n",
    "\n",
    "    listTokens = word_tokenize(text)\n",
    "    listTokens= removeWords(listTokens, stopWords)\n",
    "\n",
    "    text = \" \".join(listTokens)\n",
    "    text = unidecode(text)\n",
    "    return text"
   ]
  },
  {
   "cell_type": "code",
   "execution_count": 8,
   "metadata": {},
   "outputs": [],
   "source": [
    "random_forest_pipe = Pipeline([\n",
    "    ('CountVectorizer', CountVectorizer(analyzer=textProcess)),\n",
    "    ('TDFID', TfidfTransformer()),\n",
    "    ('RandomForest', RandomForestClassifier())\n",
    "])\n",
    "\n",
    "multinomialNB_pipe = Pipeline([\n",
    "    ('CountVectorizer', CountVectorizer(analyzer=textProcess)),\n",
    "    ('TDFID', TfidfTransformer()),\n",
    "    ('RandomForest', MultinomialNB())\n",
    "])\n",
    "\n",
    "logistic_regression_pipe = Pipeline([\n",
    "    ('CountVectorizer', CountVectorizer(analyzer=textProcess)),\n",
    "    ('TDFID', TfidfTransformer()),\n",
    "    ('RandomForest', LogisticRegression())\n",
    "])"
   ]
  },
  {
   "cell_type": "code",
   "execution_count": 9,
   "metadata": {},
   "outputs": [],
   "source": [
    "df['humor'] = pd.to_numeric(df['humor'])"
   ]
  },
  {
   "cell_type": "code",
   "execution_count": 17,
   "metadata": {},
   "outputs": [],
   "source": [
    "X = df['text']\n",
    "y = df['humor']\n",
    "X_train, X_test, y_train, y_test = train_test_split(X, y, test_size=0.3, random_state=42)\n"
   ]
  },
  {
   "cell_type": "markdown",
   "metadata": {},
   "source": [
    "##### Utilizando o cross validantion"
   ]
  },
  {
   "cell_type": "code",
   "execution_count": 71,
   "metadata": {},
   "outputs": [],
   "source": [
    "# logistic_regression_model = cross_validate(logistic_regression_pipe, X_train, y_train, scoring=['accuracy', 'f1', 'roc_auc'], return_train_score=True)\n",
    "# random_forest_model = cross_validate(random_forest_pipe, X_train, y_train, scoring=['accuracy', 'f1', 'roc_auc'], return_train_score=True)\n",
    "# multinomialnb_model = cross_validate(multinomialNB_pipe, X_train, y_train, scoring=['accuracy', 'f1', 'roc_auc'], return_train_score=True)"
   ]
  },
  {
   "cell_type": "code",
   "execution_count": 76,
   "metadata": {},
   "outputs": [
    {
     "name": "stderr",
     "output_type": "stream",
     "text": [
      "d:\\Anaconda\\lib\\site-packages\\sklearn\\linear_model\\_logistic.py:814: ConvergenceWarning: lbfgs failed to converge (status=1):\n",
      "STOP: TOTAL NO. of ITERATIONS REACHED LIMIT.\n",
      "\n",
      "Increase the number of iterations (max_iter) or scale the data as shown in:\n",
      "    https://scikit-learn.org/stable/modules/preprocessing.html\n",
      "Please also refer to the documentation for alternative solver options:\n",
      "    https://scikit-learn.org/stable/modules/linear_model.html#logistic-regression\n"
     ]
    }
   ],
   "source": [
    "logistic_regression_model = logistic_regression_pipe.fit(X_train, y_train)\n",
    "random_forest_model = random_forest_pipe.fit(X_train, y_train) \n",
    "multinomialnb_model = multinomialNB_pipe.fit(X_train, y_train)"
   ]
  },
  {
   "cell_type": "code",
   "execution_count": 82,
   "metadata": {},
   "outputs": [
    {
     "data": {
      "image/png": "[encoded data removed]",
      "text/plain": [
       "<Figure size 432x288 with 1 Axes>"
      ]
     },
     "metadata": {
      "needs_background": "light"
     },
     "output_type": "display_data"
    }
   ],
   "source": [
    "logistic_acc = logistic_regression_model.score(X_test, y_test)\n",
    "logistic_pred = logistic_regression_model.predict(X_test)\n",
    "logistic_pred_proba = logistic_regression_model.predict_proba(X_test)\n",
    "\n",
    "fpr, tpr, _ = metrics.roc_curve(y_test,  logistic_pred_proba[::,1])\n",
    "auc = metrics.roc_auc_score(y_test, logistic_pred_proba[::,1])\n",
    "plt.title('Curva auc regressão logistica')\n",
    "plt.plot(fpr,tpr,label=\"data 1, auc=\"+str(auc))\n",
    "plt.legend(loc=4)\n",
    "plt.show()"
   ]
  },
  {
   "cell_type": "code",
   "execution_count": 83,
   "metadata": {},
   "outputs": [
    {
     "data": {
      "image/png": "[encoded data removed]",
      "text/plain": [
       "<Figure size 432x288 with 1 Axes>"
      ]
     },
     "metadata": {
      "needs_background": "light"
     },
     "output_type": "display_data"
    }
   ],
   "source": [
    "random_forest_acc = random_forest_model.score(X_test, y_test)\n",
    "random_forest_pred = random_forest_model.predict(X_test)\n",
    "random_forest_proba = random_forest_model.predict_proba(X_test)\n",
    "\n",
    "fpr, tpr, _ = metrics.roc_curve(y_test,  random_forest_proba[::,1])\n",
    "auc = metrics.roc_auc_score(y_test, random_forest_proba[::,1])\n",
    "plt.plot(fpr,tpr,label=\"data 1, auc=\"+str(auc))\n",
    "plt.title('Curva auc random forest')\n",
    "\n",
    "plt.legend(loc=4)\n",
    "plt.show()\n"
   ]
  },
  {
   "cell_type": "code",
   "execution_count": 90,
   "metadata": {},
   "outputs": [
    {
     "data": {
      "image/png": "[encoded data removed]",
      "text/plain": [
       "<Figure size 432x288 with 1 Axes>"
      ]
     },
     "metadata": {
      "needs_background": "light"
     },
     "output_type": "display_data"
    }
   ],
   "source": [
    "multinomialnb_acc = multinomialnb_model.score(X_test, y_test)\n",
    "multinomialnb_pred = multinomialnb_model.predict(X_test)\n",
    "multinomialnb_proba = multinomialnb_model.predict_proba(X_test)\n",
    "\n",
    "fpr, tpr, _ = metrics.roc_curve(y_test,  multinomialnb_proba[::,1])\n",
    "auc = metrics.roc_auc_score(y_test, multinomialnb_proba[::,1])\n",
    "plt.plot(fpr,tpr,label=\"data 1, auc=\"+str(auc))\n",
    "plt.title('Curva auc bayes')\n",
    "plt.legend(loc=4)\n",
    "plt.show()"
   ]
  },
  {
   "cell_type": "code",
   "execution_count": 85,
   "metadata": {},
   "outputs": [],
   "source": [
    "logistic_pred_f1 = f1_score(y_test, logistic_pred)"
   ]
  },
  {
   "cell_type": "code",
   "execution_count": 86,
   "metadata": {},
   "outputs": [],
   "source": [
    "random_forest_f1 = f1_score(y_test, random_forest_pred)"
   ]
  },
  {
   "cell_type": "code",
   "execution_count": 87,
   "metadata": {},
   "outputs": [],
   "source": [
    "multinomialnb_f1 = f1_score(y_test, multinomialnb_pred)"
   ]
  },
  {
   "cell_type": "code",
   "execution_count": 88,
   "metadata": {},
   "outputs": [
    {
     "data": {
      "text/html": [
       "<style type=\"text/css\">\n",
       "</style>\n",
       "<table id=\"T_9c260_\">\n",
       "  <thead>\n",
       "    <tr>\n",
       "      <th class=\"blank level0\" >&nbsp;</th>\n",
       "      <th class=\"col_heading level0 col0\" >accuracy</th>\n",
       "      <th class=\"col_heading level0 col1\" >f1</th>\n",
       "    </tr>\n",
       "  </thead>\n",
       "  <tbody>\n",
       "    <tr>\n",
       "      <th id=\"T_9c260_level0_row0\" class=\"row_heading level0 row0\" >logistic</th>\n",
       "      <td id=\"T_9c260_row0_col0\" class=\"data row0 col0\" >0.790477</td>\n",
       "      <td id=\"T_9c260_row0_col1\" class=\"data row0 col1\" >0.780058</td>\n",
       "    </tr>\n",
       "    <tr>\n",
       "      <th id=\"T_9c260_level0_row1\" class=\"row_heading level0 row1\" >random_forest</th>\n",
       "      <td id=\"T_9c260_row1_col0\" class=\"data row1 col0\" >0.806659</td>\n",
       "      <td id=\"T_9c260_row1_col1\" class=\"data row1 col1\" >0.796214</td>\n",
       "    </tr>\n",
       "    <tr>\n",
       "      <th id=\"T_9c260_level0_row2\" class=\"row_heading level0 row2\" >multinomialNB</th>\n",
       "      <td id=\"T_9c260_row2_col0\" class=\"data row2 col0\" >0.757076</td>\n",
       "      <td id=\"T_9c260_row2_col1\" class=\"data row2 col1\" >0.743770</td>\n",
       "    </tr>\n",
       "  </tbody>\n",
       "</table>\n"
      ],
      "text/plain": [
       "<pandas.io.formats.style.Styler at 0x15b348402e0>"
      ]
     },
     "execution_count": 88,
     "metadata": {},
     "output_type": "execute_result"
    }
   ],
   "source": [
    "resultado = pd.DataFrame({\n",
    "    'labels': ['accuracy', 'f1'],\n",
    "    'logistic': [logistic_acc, logistic_pred_f1],\n",
    "    'random_forest': [random_forest_acc, random_forest_f1],\n",
    "    'multinomialNB': [multinomialnb_acc, multinomialnb_f1]\n",
    "}).set_index('labels')\n",
    "resultado.index.name=None\n",
    "resultado = resultado.transpose()    \n",
    "resultado.style.applymap(lambda x: 'background-color: lightgreen' if x >= 0.90 else '')"
   ]
  },
  {
   "cell_type": "code",
   "execution_count": 91,
   "metadata": {},
   "outputs": [
    {
     "data": {
      "text/plain": [
       "['random_forest_model.joblib']"
      ]
     },
     "execution_count": 91,
     "metadata": {},
     "output_type": "execute_result"
    }
   ],
   "source": [
    "from joblib import dump\n",
    "# dump(logistic_regression_model, 'logistic_regression_model.joblib') \n",
    "# dump(random_forest_model, 'random_forest_model.joblib') \n",
    "# dump(multinomialnb_model, 'multinomialnb_model.joblib') "
   ]
  }
 ],
 "metadata": {
  "interpreter": {
   "hash": "88279d2366fe020547cde40dd65aa0e3aa662a6ec1f3ca12d88834876c85e1a6"
  },
  "kernelspec": {
   "display_name": "Python 3.9.7 ('base')",
   "language": "python",
   "name": "python3"
  },
  "language_info": {
   "codemirror_mode": {
    "name": "ipython",
    "version": 3
   },
   "file_extension": ".py",
   "mimetype": "text/x-python",
   "name": "python",
   "nbconvert_exporter": "python",
   "pygments_lexer": "ipython3",
   "version": "3.9.7"
  },
  "orig_nbformat": 4
 },
 "nbformat": 4,
 "nbformat_minor": 2
}
